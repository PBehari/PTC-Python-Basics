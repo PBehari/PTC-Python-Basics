{
 "cells": [
  {
   "cell_type": "code",
   "execution_count": 1,
   "metadata": {},
   "outputs": [
    {
     "name": "stdout",
     "output_type": "stream",
     "text": [
      "{'John', 'Mike'}\n"
     ]
    }
   ],
   "source": [
    "# Data types\n",
    "\n",
    "# Text Type\n",
    "a = \"Welcome!\" # String\n",
    "\n",
    "# Numeric Types\n",
    "b = 10 # Integer\n",
    "c = 8.5 # Float\n",
    "\n",
    "# Sequence Types\n",
    "d = [\"Car\", \"Person\", \"Apple\"] # List\n",
    "e = (\"Banana\", \"Orange\", \"City\") # Tuple\n",
    "f = range(1, 10) # Range\n",
    "\n",
    "# Mapping Type\n",
    "# dictionary\n",
    "g = {\n",
    "    \"key1\": \"val1\",\n",
    "    \"key2\": \"val2\"\n",
    "} \n",
    "\n",
    "# Set Types\n",
    "h = {\"Mike\", \"John\", \"Mike\"}\n",
    "print(h)\n",
    "\n",
    "# Boolean Types\n",
    "i = True # Boolean True\n",
    "j = False # Boolean False\n"
   ]
  },
  {
   "cell_type": "code",
   "execution_count": 2,
   "metadata": {},
   "outputs": [
    {
     "name": "stdout",
     "output_type": "stream",
     "text": [
      "Strings: ['Apple', 'Car', 'Tree']\n",
      "Numbers: [10, 11, 900]\n"
     ]
    }
   ],
   "source": [
    "# Simple code to categorize numbers and strings\n",
    "# A list contains both numbers and strings\n",
    "\n",
    "# Initialize the list with strings and integers data types\n",
    "list_items = [\"Car\", 10, \"Apple\", 900, 'Tree', 11]\n",
    "\n",
    "# Intialise empty lists\n",
    "strings = []\n",
    "numbers = []\n",
    "\n",
    "# Iterate through the list_items\n",
    "for item in list_items:\n",
    "   # Find the string items in the list and add them to strings list\n",
    "   if isinstance(item, str):\n",
    "      strings.append(item)\n",
    "   else:\n",
    "      # Find the number items in the list and add them to numbers list\n",
    "      numbers.append(item)\n",
    "\n",
    "# using the sorting function\n",
    "strings_sorted = sorted(strings)\n",
    "numbers_sorted = sorted(numbers)\n",
    "\n",
    "# printing the categorized input dataß\n",
    "print(\"Strings:\", strings_sorted)\n",
    "print(\"Numbers:\", numbers_sorted)"
   ]
  }
 ],
 "metadata": {
  "kernelspec": {
   "display_name": "Python 3",
   "language": "python",
   "name": "python3"
  },
  "language_info": {
   "codemirror_mode": {
    "name": "ipython",
    "version": 3
   },
   "file_extension": ".py",
   "mimetype": "text/x-python",
   "name": "python",
   "nbconvert_exporter": "python",
   "pygments_lexer": "ipython3",
   "version": "3.11.8"
  }
 },
 "nbformat": 4,
 "nbformat_minor": 2
}
