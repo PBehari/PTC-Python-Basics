{
 "cells": [
  {
   "cell_type": "code",
   "execution_count": 1,
   "metadata": {},
   "outputs": [
    {
     "name": "stdout",
     "output_type": "stream",
     "text": [
      "4.666666666666667\n",
      "4\n"
     ]
    }
   ],
   "source": [
    "# Python Arithmetic Operators\n",
    "# Arithmetic operators are used with numeric values to perform common mathematical operations\n",
    "\n",
    "5 + 3 # Addition\n",
    "5 - 1 # Subtraction\n",
    "2 * 3 # Multiplication\n",
    "8 / 4 # Division\n",
    "10 % 4 # Modulus\n",
    "5 ** 2 # Exponentiation\n",
    "14 // 3 # Floor division\n",
    "\n",
    "print(14 / 3)\n",
    "print(14 // 3)"
   ]
  },
  {
   "cell_type": "code",
   "execution_count": null,
   "metadata": {},
   "outputs": [
    {
     "name": "stdout",
     "output_type": "stream",
     "text": [
      "4\n",
      "5\n"
     ]
    }
   ],
   "source": [
    "# Import math package\n",
    "import math\n",
    "\n",
    "# Afronden naar boven\n",
    "print(math.floor(14 / 3))\n",
    "\n",
    "# Afronden naar boven\n",
    "print(math.ceil(14 / 3))"
   ]
  },
  {
   "cell_type": "code",
   "execution_count": 3,
   "metadata": {},
   "outputs": [
    {
     "name": "stdout",
     "output_type": "stream",
     "text": [
      "5\n",
      "8\n"
     ]
    }
   ],
   "source": [
    "# Python Assignment Operators\n",
    "# Assignment operators are used to assign values to variables\n",
    "\n",
    "x = 5\n",
    "print(x)\n",
    "x = x + 3 # Ander manier: x += 3\n",
    "print(x)\n",
    "\n",
    "x = x - 3 \n",
    "x -= 3\n",
    "\n",
    "x = x * 3\n",
    "x *= 3\n",
    "\n",
    "x = x / 3\n",
    "x /= 3\n",
    "\n",
    "x = x % 3\n",
    "x %= 3\n",
    "\n",
    "x = x // 3\n",
    "x //= 3\n",
    "\n",
    "x = x ** 3\n",
    "x **= 3\n"
   ]
  },
  {
   "cell_type": "code",
   "execution_count": 4,
   "metadata": {},
   "outputs": [
    {
     "data": {
      "text/plain": [
       "True"
      ]
     },
     "execution_count": 4,
     "metadata": {},
     "output_type": "execute_result"
    }
   ],
   "source": [
    "# Python Comparison Operators\n",
    "# Comparison operators are used to compare two values\n",
    "x = 3\n",
    "y = 3\n",
    "\n",
    "x == y # Equal\n",
    "x != y # Not equal\n",
    "x > y # Greater than\n",
    "x < y # Less than\n",
    "x >= y # Greater than or equal to\n",
    "x <= y # Less than or equal to"
   ]
  },
  {
   "cell_type": "code",
   "execution_count": 5,
   "metadata": {},
   "outputs": [
    {
     "data": {
      "text/plain": [
       "False"
      ]
     },
     "execution_count": 5,
     "metadata": {},
     "output_type": "execute_result"
    }
   ],
   "source": [
    "# Python Logical Operators\n",
    "# Logical operators are used to combine conditional statements:\n",
    "\n",
    "x < 5 and x < 10 # Returns True if both statements are true\n",
    "x < 5 or x < 4 # Returns True if one of the statements is true\n",
    "not(x < 5 and x < 10) # Reverse the result, returns False if the result is true"
   ]
  },
  {
   "cell_type": "code",
   "execution_count": 6,
   "metadata": {},
   "outputs": [
    {
     "name": "stdout",
     "output_type": "stream",
     "text": [
      "False\n",
      "4435276800\n",
      "4436415488\n"
     ]
    }
   ],
   "source": [
    "# Python Identity Operators\n",
    "# Identity operators are used to compare the objects, not if they are equal, \n",
    "# but if they are actually the same object, with the same memory location\n",
    "\n",
    "x is y # Returns True if both variables are the same object\n",
    "x is not y # Returns True if both variables are not the same object\n",
    "\n",
    "list1 = [\"Car\", \"Apple\"]\n",
    "list2 = [\"Car\", \"Apple\"]\n",
    "\n",
    "print(list1 is list2)\n",
    "\n",
    "print(id(list1))\n",
    "print(id(list2))"
   ]
  },
  {
   "cell_type": "code",
   "execution_count": 7,
   "metadata": {},
   "outputs": [
    {
     "name": "stdout",
     "output_type": "stream",
     "text": [
      "String not found\n"
     ]
    }
   ],
   "source": [
    "# Python Membership Operators\n",
    "# Membership operators are used to test if a sequence is presented in an object\n",
    "\n",
    "# x in y # Returns True if a sequence with the specified value is present in the object\n",
    "# x not in y # Returns True if a sequence with the specified value is not present in the object\n",
    "\n",
    "str1 = \"Welcome 2024!\"\n",
    "\n",
    "if \"2025\" not in str1:\n",
    "    print(\"String not found\")"
   ]
  }
 ],
 "metadata": {
  "kernelspec": {
   "display_name": "Python 3",
   "language": "python",
   "name": "python3"
  },
  "language_info": {
   "codemirror_mode": {
    "name": "ipython",
    "version": 3
   },
   "file_extension": ".py",
   "mimetype": "text/x-python",
   "name": "python",
   "nbconvert_exporter": "python",
   "pygments_lexer": "ipython3",
   "version": "3.11.8"
  }
 },
 "nbformat": 4,
 "nbformat_minor": 2
}
