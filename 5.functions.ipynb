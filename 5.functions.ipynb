{
 "cells": [
  {
   "cell_type": "code",
   "execution_count": 1,
   "metadata": {},
   "outputs": [
    {
     "name": "stdout",
     "output_type": "stream",
     "text": [
      "Hi there! Called from a function\n"
     ]
    }
   ],
   "source": [
    "# Python Functions\n",
    "\n",
    "def print_output():\n",
    "    print(\"Hi there! Called from a function\")\n",
    "\n",
    "print_output()"
   ]
  },
  {
   "cell_type": "code",
   "execution_count": 3,
   "metadata": {},
   "outputs": [
    {
     "name": "stdout",
     "output_type": "stream",
     "text": [
      "Hi Mike ! Called from a function\n",
      "Hi Mike! Called from a function\n"
     ]
    }
   ],
   "source": [
    "def print_output(name):\n",
    "    print(\"Hi\", name, \"! Called from a function\")\n",
    "    print(f\"Hi {name}! Called from a function\")\n",
    "\n",
    "print_output(\"Mike\")"
   ]
  },
  {
   "cell_type": "code",
   "execution_count": 1,
   "metadata": {},
   "outputs": [
    {
     "name": "stdout",
     "output_type": "stream",
     "text": [
      "Hi Mike ! Called from a function\n",
      "Hi Mike! Called from a function. You are age is 24\n"
     ]
    }
   ],
   "source": [
    "def print_output(name, age):\n",
    "    print(\"Hi\", name, \"! Called from a function\")\n",
    "    print(f\"Hi {name}! Called from a function. You are age is {age}\")\n",
    "\n",
    "print_output(\"Mike\", 24)"
   ]
  }
 ],
 "metadata": {
  "kernelspec": {
   "display_name": "Python 3",
   "language": "python",
   "name": "python3"
  },
  "language_info": {
   "codemirror_mode": {
    "name": "ipython",
    "version": 3
   },
   "file_extension": ".py",
   "mimetype": "text/x-python",
   "name": "python",
   "nbconvert_exporter": "python",
   "pygments_lexer": "ipython3",
   "version": "3.11.8"
  }
 },
 "nbformat": 4,
 "nbformat_minor": 2
}
