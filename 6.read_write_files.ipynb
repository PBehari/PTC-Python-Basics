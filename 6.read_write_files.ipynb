{
 "cells": [
  {
   "cell_type": "code",
   "execution_count": 1,
   "metadata": {},
   "outputs": [],
   "source": [
    "# Reading and Writing to text files in Python\n",
    "# File Access Modes:\n",
    "# Read Only (‘r’)\n",
    "# Read and Write (‘r+’)\n",
    "# Write Only (‘w’)\n",
    "# Write and Read (‘w+’)\n",
    "# Append Only (‘a’)\n",
    "# Append and Read (‘a+’)\n",
    "\n",
    "# Write to file\n",
    "file1 = open(\"file1.txt\", \"w+\")\n",
    "file1.write(\"Hello World!\")\n",
    "\n",
    "file1.close()\n"
   ]
  },
  {
   "cell_type": "code",
   "execution_count": 2,
   "metadata": {},
   "outputs": [
    {
     "name": "stdout",
     "output_type": "stream",
     "text": [
      "Hello World!\n"
     ]
    }
   ],
   "source": [
    "# Read from file\n",
    "file1 = open(\"file1.txt\", \"r\")\n",
    "data = file1.read()\n",
    "\n",
    "print(data)\n",
    "file1.close()"
   ]
  }
 ],
 "metadata": {
  "kernelspec": {
   "display_name": "Python 3",
   "language": "python",
   "name": "python3"
  },
  "language_info": {
   "codemirror_mode": {
    "name": "ipython",
    "version": 3
   },
   "file_extension": ".py",
   "mimetype": "text/x-python",
   "name": "python",
   "nbconvert_exporter": "python",
   "pygments_lexer": "ipython3",
   "version": "3.11.8"
  }
 },
 "nbformat": 4,
 "nbformat_minor": 2
}
